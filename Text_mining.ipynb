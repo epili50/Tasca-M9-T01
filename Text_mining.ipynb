{
 "cells": [
  {
   "cell_type": "markdown",
   "id": "05a3af11",
   "metadata": {},
   "source": [
    "# Tasca M9 T01\n",
    "\n",
    "## Exercici 1\n",
    "Agafa un text en anglès que vulguis, i calcula'n la freqüència de les paraules.\n",
    "\n",
    "**Voy a tomar tres reseñas de una [artículo de amazon](https://www.amazon.com/Buyers-Products-Underbody-Paddle-18x18x48/product-reviews/B00IUJ7L5A/ref=cm_cr_arp_d_paging_btm_next_2?pageNumber=2) que son complicadas tanto por su sintaxis como para su clasificación de sentimiento para ver como funciona nltk con ellas.**"
   ]
  },
  {
   "cell_type": "code",
   "execution_count": 1,
   "id": "101cd3bd",
   "metadata": {},
   "outputs": [],
   "source": [
    "import nltk\n",
    "from nltk.tokenize import sent_tokenize\n"
   ]
  },
  {
   "cell_type": "markdown",
   "id": "b98fb883",
   "metadata": {},
   "source": [
    "**Copio los textos y los separo (tokenizo) en frases**"
   ]
  },
  {
   "cell_type": "code",
   "execution_count": 20,
   "id": "acb7ca5c",
   "metadata": {},
   "outputs": [
    {
     "name": "stdout",
     "output_type": "stream",
     "text": [
      "['The box seems nice, and it\\'s construction is indeed \"heavy duty\"- \\nThat\\'s why it more or less survived a rough trip to my dock- \\nIt has quite a bit of cosmetic damage to the paint, and few dings to the steel, \\nbut it still functions as it should- I\\'m a little disappointed by the way my $250 box looks in the back \\nof my new truck- I could\\'ve gone through the trouble of sending it back, \\nbut I suspect they\\'d all arrive in this condition, as there\\'s no packing, just a cardboard box-']\n"
     ]
    }
   ],
   "source": [
    "textA=\"\"\"The box seems nice, and it's construction is indeed \"heavy duty\"- \n",
    "That's why it more or less survived a rough trip to my dock- \n",
    "It has quite a bit of cosmetic damage to the paint, and few dings to the steel, \n",
    "but it still functions as it should- I'm a little disappointed by the way my $250 box looks in the back \n",
    "of my new truck- I could've gone through the trouble of sending it back, \n",
    "but I suspect they'd all arrive in this condition, as there's no packing, just a cardboard box-\"\"\"\n",
    "\n",
    "tokenized_textA=sent_tokenize(textA)\n",
    "print(tokenized_textA)"
   ]
  },
  {
   "cell_type": "code",
   "execution_count": 21,
   "id": "62e531ef",
   "metadata": {},
   "outputs": [
    {
     "name": "stdout",
     "output_type": "stream",
     "text": [
      "['Was hesitant to order due to a ton of reviews showing damage in transit.', 'Buyers either upped their game or I got lucky, cause the packaging was perfect and the box was immaculate.', 'I’m not going to bother w/ the weather stripping it came with.', 'If keeping rain out matters to you (it does to me), replace the seal before you mount this.', 'Seems like a heavy duty box, it’s going to house a 12 ton winch on my trailer deck.']\n"
     ]
    }
   ],
   "source": [
    "textB=\"\"\"Was hesitant to order due to a ton of reviews showing damage in transit. \n",
    "Buyers either upped their game or I got lucky, cause the packaging was perfect and the box was immaculate. \n",
    "I’m not going to bother w/ the weather stripping it came with. \n",
    "If keeping rain out matters to you (it does to me), replace the seal before you mount this. \n",
    "Seems like a heavy duty box, it’s going to house a 12 ton winch on my trailer deck.\"\"\"\n",
    "\n",
    "tokenized_textB=sent_tokenize(textB)\n",
    "print(tokenized_textB)"
   ]
  },
  {
   "cell_type": "code",
   "execution_count": 22,
   "id": "01c2c911",
   "metadata": {},
   "outputs": [
    {
     "name": "stdout",
     "output_type": "stream",
     "text": [
      "['After reading several critical reviews about shipping damage I was hesitant to place order.', 'I ordered 1st unit and it arrived with no damage.', 'I found it to be sturdy and well made in the great state of Ohio, USA.', 'Keep up the good work Buyers Products.']\n"
     ]
    }
   ],
   "source": [
    "textC=\"\"\"After reading several critical reviews about shipping damage I was hesitant to place order. \n",
    "I ordered 1st unit and it arrived with no damage. \n",
    "I found it to be sturdy and well made in the great state of Ohio, USA. Keep up the good work Buyers Products.\"\"\"\n",
    "\n",
    "tokenized_textC=sent_tokenize(textC)\n",
    "print(tokenized_textC)"
   ]
  },
  {
   "cell_type": "markdown",
   "id": "f469539b",
   "metadata": {},
   "source": [
    "**Ahora los separo en palabras**"
   ]
  },
  {
   "cell_type": "code",
   "execution_count": 23,
   "id": "1fcd9c8c",
   "metadata": {},
   "outputs": [
    {
     "name": "stdout",
     "output_type": "stream",
     "text": [
      "['The', 'box', 'seems', 'nice', ',', 'and', 'it', \"'s\", 'construction', 'is', 'indeed', '``', 'heavy', 'duty', \"''\", '-', 'That', \"'s\", 'why', 'it', 'more', 'or', 'less', 'survived', 'a', 'rough', 'trip', 'to', 'my', 'dock-', 'It', 'has', 'quite', 'a', 'bit', 'of', 'cosmetic', 'damage', 'to', 'the', 'paint', ',', 'and', 'few', 'dings', 'to', 'the', 'steel', ',', 'but', 'it', 'still', 'functions', 'as', 'it', 'should-', 'I', \"'m\", 'a', 'little', 'disappointed', 'by', 'the', 'way', 'my', '$', '250', 'box', 'looks', 'in', 'the', 'back', 'of', 'my', 'new', 'truck-', 'I', 'could', \"'ve\", 'gone', 'through', 'the', 'trouble', 'of', 'sending', 'it', 'back', ',', 'but', 'I', 'suspect', 'they', \"'d\", 'all', 'arrive', 'in', 'this', 'condition', ',', 'as', 'there', \"'s\", 'no', 'packing', ',', 'just', 'a', 'cardboard', 'box-']\n"
     ]
    }
   ],
   "source": [
    "from nltk.tokenize import word_tokenize\n",
    "tokenized_wordA=word_tokenize(textA)\n",
    "print(tokenized_wordA)"
   ]
  },
  {
   "cell_type": "code",
   "execution_count": 25,
   "id": "a716eac8",
   "metadata": {},
   "outputs": [
    {
     "name": "stdout",
     "output_type": "stream",
     "text": [
      "['Was', 'hesitant', 'to', 'order', 'due', 'to', 'a', 'ton', 'of', 'reviews', 'showing', 'damage', 'in', 'transit', '.', 'Buyers', 'either', 'upped', 'their', 'game', 'or', 'I', 'got', 'lucky', ',', 'cause', 'the', 'packaging', 'was', 'perfect', 'and', 'the', 'box', 'was', 'immaculate', '.', 'I', '’', 'm', 'not', 'going', 'to', 'bother', 'w/', 'the', 'weather', 'stripping', 'it', 'came', 'with', '.', 'If', 'keeping', 'rain', 'out', 'matters', 'to', 'you', '(', 'it', 'does', 'to', 'me', ')', ',', 'replace', 'the', 'seal', 'before', 'you', 'mount', 'this', '.', 'Seems', 'like', 'a', 'heavy', 'duty', 'box', ',', 'it', '’', 's', 'going', 'to', 'house', 'a', '12', 'ton', 'winch', 'on', 'my', 'trailer', 'deck', '.']\n"
     ]
    }
   ],
   "source": [
    "tokenized_wordB=word_tokenize(textB)\n",
    "print(tokenized_wordB)"
   ]
  },
  {
   "cell_type": "code",
   "execution_count": 26,
   "id": "2e2b3e57",
   "metadata": {},
   "outputs": [
    {
     "name": "stdout",
     "output_type": "stream",
     "text": [
      "['After', 'reading', 'several', 'critical', 'reviews', 'about', 'shipping', 'damage', 'I', 'was', 'hesitant', 'to', 'place', 'order', '.', 'I', 'ordered', '1st', 'unit', 'and', 'it', 'arrived', 'with', 'no', 'damage', '.', 'I', 'found', 'it', 'to', 'be', 'sturdy', 'and', 'well', 'made', 'in', 'the', 'great', 'state', 'of', 'Ohio', ',', 'USA', '.', 'Keep', 'up', 'the', 'good', 'work', 'Buyers', 'Products', '.']\n"
     ]
    }
   ],
   "source": [
    "tokenized_wordC=word_tokenize(textC)\n",
    "print(tokenized_wordC)"
   ]
  },
  {
   "cell_type": "markdown",
   "id": "3d1f092e",
   "metadata": {},
   "source": [
    "**Mido la distribución de frecuencia de cada texto y las palabras o símbolo más repetidos**"
   ]
  },
  {
   "cell_type": "code",
   "execution_count": 27,
   "id": "63cb36fc",
   "metadata": {},
   "outputs": [
    {
     "name": "stdout",
     "output_type": "stream",
     "text": [
      "<FreqDist with 77 samples and 109 outcomes>\n"
     ]
    }
   ],
   "source": [
    "from nltk.probability import FreqDist\n",
    "fdistA = FreqDist(tokenized_wordA)\n",
    "print(fdistA)"
   ]
  },
  {
   "cell_type": "code",
   "execution_count": 28,
   "id": "4652de10",
   "metadata": {},
   "outputs": [
    {
     "data": {
      "text/plain": [
       "[(',', 6),\n",
       " ('it', 5),\n",
       " ('the', 5),\n",
       " ('a', 4),\n",
       " (\"'s\", 3),\n",
       " ('to', 3),\n",
       " ('my', 3),\n",
       " ('of', 3),\n",
       " ('I', 3),\n",
       " ('box', 2)]"
      ]
     },
     "execution_count": 28,
     "metadata": {},
     "output_type": "execute_result"
    }
   ],
   "source": [
    "fdistA.most_common(10)"
   ]
  },
  {
   "cell_type": "code",
   "execution_count": 29,
   "id": "172ad68c",
   "metadata": {},
   "outputs": [
    {
     "name": "stdout",
     "output_type": "stream",
     "text": [
      "<FreqDist with 70 samples and 95 outcomes>\n"
     ]
    }
   ],
   "source": [
    "fdistB = FreqDist(tokenized_wordB)\n",
    "print(fdistB)"
   ]
  },
  {
   "cell_type": "code",
   "execution_count": 30,
   "id": "b2bc0760",
   "metadata": {},
   "outputs": [
    {
     "data": {
      "text/plain": [
       "[('to', 6),\n",
       " ('.', 5),\n",
       " ('the', 4),\n",
       " ('a', 3),\n",
       " (',', 3),\n",
       " ('it', 3),\n",
       " ('ton', 2),\n",
       " ('I', 2),\n",
       " ('was', 2),\n",
       " ('box', 2)]"
      ]
     },
     "execution_count": 30,
     "metadata": {},
     "output_type": "execute_result"
    }
   ],
   "source": [
    "fdistB.most_common(10)"
   ]
  },
  {
   "cell_type": "code",
   "execution_count": 31,
   "id": "84b580c9",
   "metadata": {},
   "outputs": [
    {
     "name": "stdout",
     "output_type": "stream",
     "text": [
      "<FreqDist with 42 samples and 52 outcomes>\n"
     ]
    }
   ],
   "source": [
    "fdistC = FreqDist(tokenized_wordC)\n",
    "print(fdistC)"
   ]
  },
  {
   "cell_type": "code",
   "execution_count": 32,
   "id": "f46323de",
   "metadata": {},
   "outputs": [
    {
     "data": {
      "text/plain": [
       "[('.', 4),\n",
       " ('I', 3),\n",
       " ('damage', 2),\n",
       " ('to', 2),\n",
       " ('and', 2),\n",
       " ('it', 2),\n",
       " ('the', 2),\n",
       " ('After', 1),\n",
       " ('reading', 1),\n",
       " ('several', 1)]"
      ]
     },
     "execution_count": 32,
     "metadata": {},
     "output_type": "execute_result"
    }
   ],
   "source": [
    "fdistC.most_common(10)"
   ]
  },
  {
   "cell_type": "markdown",
   "id": "40b8e9b9",
   "metadata": {},
   "source": [
    "**Grafico la distribución de frecuencia de cada texto de las 40 palabras más utilizadas**"
   ]
  },
  {
   "cell_type": "code",
   "execution_count": 33,
   "id": "b041b197",
   "metadata": {
    "scrolled": true
   },
   "outputs": [
    {
     "data": {
      "image/png": "[encoded data removed]",
      "text/plain": [
       "<Figure size 432x288 with 1 Axes>"
      ]
     },
     "metadata": {
      "needs_background": "light"
     },
     "output_type": "display_data"
    }
   ],
   "source": [
    "import matplotlib.pyplot as plt\n",
    "fdistA.plot(40,cumulative=False)\n",
    "plt.show()"
   ]
  },
  {
   "cell_type": "code",
   "execution_count": 34,
   "id": "8ea2ae17",
   "metadata": {},
   "outputs": [
    {
     "data": {
      "image/png": "[encoded data removed]",
      "text/plain": [
       "<Figure size 432x288 with 1 Axes>"
      ]
     },
     "metadata": {
      "needs_background": "light"
     },
     "output_type": "display_data"
    }
   ],
   "source": [
    "fdistB.plot(40,cumulative=False)\n",
    "plt.show()"
   ]
  },
  {
   "cell_type": "code",
   "execution_count": 35,
   "id": "6dd55f93",
   "metadata": {},
   "outputs": [
    {
     "data": {
      "image/png": "[encoded data removed]",
      "text/plain": [
       "<Figure size 432x288 with 1 Axes>"
      ]
     },
     "metadata": {
      "needs_background": "light"
     },
     "output_type": "display_data"
    }
   ],
   "source": [
    "fdistC.plot(40,cumulative=False)\n",
    "plt.show()"
   ]
  },
  {
   "cell_type": "markdown",
   "id": "f1dbea82",
   "metadata": {},
   "source": [
    "**La tokenización y distribución de frecuencia funcionaron bien con estos textos, incluso aunque los mismos inlcuian formas de escritora coloquial. Ha sido útil para descomponer el texto, dejándolo listo para un tratamiento de machine learning, y para observar su morfología.**"
   ]
  },
  {
   "cell_type": "markdown",
   "id": "e79b061e",
   "metadata": {},
   "source": [
    "## Exercici 2\n",
    "Treu les stopwords i realitza stemming al teu conjunt de dades."
   ]
  },
  {
   "cell_type": "code",
   "execution_count": 7,
   "id": "ad3362a5",
   "metadata": {},
   "outputs": [
    {
     "name": "stdout",
     "output_type": "stream",
     "text": [
      "{'these', 're', 'in', \"isn't\", 'before', 'after', 'couldn', 'those', \"you're\", 'did', 'being', 'here', 'some', 'against', 'shan', 't', 've', \"couldn't\", \"didn't\", 'doing', 'such', 'than', \"haven't\", 'we', 'had', 'y', \"don't\", 'can', \"you've\", 'above', 'myself', 'does', 'how', 'few', 'm', 'ma', 'be', 'when', 'my', 'theirs', 'where', 'no', 'whom', 'doesn', \"wasn't\", 'hadn', 'any', 'off', 'but', 'ours', 'as', 'about', 'under', 'were', \"mightn't\", 'won', 'do', 'only', 'or', 'from', 'once', 'to', 'd', 'didn', \"she's\", 'wouldn', \"wouldn't\", 'more', 'll', 'further', 'other', 'isn', 'through', 'she', \"you'd\", 'our', 'himself', 'haven', 'its', \"should've\", 'shouldn', 'their', 'out', 'now', 'needn', 'very', 'while', 'it', 'a', 'by', 'they', 'up', 'there', 'him', \"shan't\", 'too', \"hasn't\", 'each', 'your', 'that', 'on', 'wasn', \"you'll\", 'was', 'most', \"aren't\", 'with', 'has', \"mustn't\", 'so', 'until', 'itself', \"needn't\", \"shouldn't\", 'me', 'an', 'below', 'mightn', 'he', 'you', 'of', 'are', 'weren', 'ain', 'mustn', 'is', 's', \"won't\", 'this', 'aren', 'just', \"doesn't\", 'what', 'who', 'o', 'don', 'again', 'hasn', 'her', 'yourselves', 'which', 'same', \"weren't\", 'will', 'herself', 'am', 'his', 'because', 'hers', 'i', 'into', 'nor', \"that'll\", \"hadn't\", \"it's\", 'having', 'then', 'during', 'should', 'all', 'have', 'at', 'and', 'for', 'ourselves', 'yourself', 'been', 'not', 'why', 'yours', 'them', 'both', 'themselves', 'down', 'over', 'between', 'own', 'if', 'the'}\n"
     ]
    }
   ],
   "source": [
    "#Imprime la lista de stop words\n",
    "from nltk.corpus import stopwords\n",
    "stop_words=set(stopwords.words(\"english\"))\n",
    "print(stop_words)\n"
   ]
  },
  {
   "cell_type": "markdown",
   "id": "ce9cecaf",
   "metadata": {},
   "source": [
    "**Elimino los stop words de cada texto**"
   ]
  },
  {
   "cell_type": "code",
   "execution_count": 38,
   "id": "3d7a7b44",
   "metadata": {},
   "outputs": [
    {
     "name": "stdout",
     "output_type": "stream",
     "text": [
      "Filterd Sentence: ['The', 'box', 'seems', 'nice', ',', \"'s\", 'construction', 'indeed', '``', 'heavy', 'duty', \"''\", '-', 'That', \"'s\", 'less', 'survived', 'rough', 'trip', 'dock-', 'It', 'quite', 'bit', 'cosmetic', 'damage', 'paint', ',', 'dings', 'steel', ',', 'still', 'functions', 'should-', 'I', \"'m\", 'little', 'disappointed', 'way', '$', '250', 'box', 'looks', 'back', 'new', 'truck-', 'I', 'could', \"'ve\", 'gone', 'trouble', 'sending', 'back', ',', 'I', 'suspect', \"'d\", 'arrive', 'condition', ',', \"'s\", 'packing', ',', 'cardboard', 'box-']\n"
     ]
    }
   ],
   "source": [
    "filtered_sentA=[]\n",
    "for w in tokenized_wordA:\n",
    "    if w not in stop_words:\n",
    "        filtered_sentA.append(w)\n",
    "print(\"Filterd Sentence:\",filtered_sentA)\n"
   ]
  },
  {
   "cell_type": "code",
   "execution_count": 40,
   "id": "48913531",
   "metadata": {},
   "outputs": [
    {
     "name": "stdout",
     "output_type": "stream",
     "text": [
      "Filterd Sentence: ['Was', 'hesitant', 'order', 'due', 'ton', 'reviews', 'showing', 'damage', 'transit', '.', 'Buyers', 'either', 'upped', 'game', 'I', 'got', 'lucky', ',', 'cause', 'packaging', 'perfect', 'box', 'immaculate', '.', 'I', '’', 'going', 'bother', 'w/', 'weather', 'stripping', 'came', '.', 'If', 'keeping', 'rain', 'matters', '(', ')', ',', 'replace', 'seal', 'mount', '.', 'Seems', 'like', 'heavy', 'duty', 'box', ',', '’', 'going', 'house', '12', 'ton', 'winch', 'trailer', 'deck', '.']\n"
     ]
    }
   ],
   "source": [
    "filtered_sentB=[]\n",
    "for w in tokenized_wordB:\n",
    "    if w not in stop_words:\n",
    "        filtered_sentB.append(w)\n",
    "print(\"Filterd Sentence:\",filtered_sentB)"
   ]
  },
  {
   "cell_type": "code",
   "execution_count": 41,
   "id": "9d9c8e98",
   "metadata": {},
   "outputs": [
    {
     "name": "stdout",
     "output_type": "stream",
     "text": [
      "Filterd Sentence: ['After', 'reading', 'several', 'critical', 'reviews', 'shipping', 'damage', 'I', 'hesitant', 'place', 'order', '.', 'I', 'ordered', '1st', 'unit', 'arrived', 'damage', '.', 'I', 'found', 'sturdy', 'well', 'made', 'great', 'state', 'Ohio', ',', 'USA', '.', 'Keep', 'good', 'work', 'Buyers', 'Products', '.']\n"
     ]
    }
   ],
   "source": [
    "filtered_sentC=[]\n",
    "for w in tokenized_wordC:\n",
    "    if w not in stop_words:\n",
    "        filtered_sentC.append(w)\n",
    "print(\"Filterd Sentence:\",filtered_sentC)"
   ]
  },
  {
   "cell_type": "markdown",
   "id": "427dcad4",
   "metadata": {},
   "source": [
    "**Extraigo la raiz de la palabras mediante el proceso de stematización**"
   ]
  },
  {
   "cell_type": "code",
   "execution_count": 42,
   "id": "bb77819c",
   "metadata": {},
   "outputs": [
    {
     "name": "stdout",
     "output_type": "stream",
     "text": [
      "Stemmed Sentence: ['the', 'box', 'seem', 'nice', ',', \"'s\", 'construct', 'inde', '``', 'heavi', 'duti', \"''\", '-', 'that', \"'s\", 'less', 'surviv', 'rough', 'trip', 'dock-', 'it', 'quit', 'bit', 'cosmet', 'damag', 'paint', ',', 'ding', 'steel', ',', 'still', 'function', 'should-', 'i', \"'m\", 'littl', 'disappoint', 'way', '$', '250', 'box', 'look', 'back', 'new', 'truck-', 'i', 'could', \"'ve\", 'gone', 'troubl', 'send', 'back', ',', 'i', 'suspect', \"'d\", 'arriv', 'condit', ',', \"'s\", 'pack', ',', 'cardboard', 'box-']\n"
     ]
    }
   ],
   "source": [
    "# Stemming\n",
    "from nltk.stem import PorterStemmer\n",
    "from nltk.tokenize import sent_tokenize, word_tokenize\n",
    "\n",
    "psA = PorterStemmer()\n",
    "\n",
    "stemmed_wordsA=[]\n",
    "for w in filtered_sentA:\n",
    "    stemmed_wordsA.append(ps.stem(w))\n",
    "\n",
    "print(\"Stemmed Sentence:\",stemmed_wordsA)\n"
   ]
  },
  {
   "cell_type": "code",
   "execution_count": 43,
   "id": "7bd255ec",
   "metadata": {},
   "outputs": [
    {
     "name": "stdout",
     "output_type": "stream",
     "text": [
      "Stemmed Sentence: ['wa', 'hesit', 'order', 'due', 'ton', 'review', 'show', 'damag', 'transit', '.', 'buyer', 'either', 'up', 'game', 'i', 'got', 'lucki', ',', 'caus', 'packag', 'perfect', 'box', 'immacul', '.', 'i', '’', 'go', 'bother', 'w/', 'weather', 'strip', 'came', '.', 'if', 'keep', 'rain', 'matter', '(', ')', ',', 'replac', 'seal', 'mount', '.', 'seem', 'like', 'heavi', 'duti', 'box', ',', '’', 'go', 'hous', '12', 'ton', 'winch', 'trailer', 'deck', '.']\n"
     ]
    }
   ],
   "source": [
    "psB = PorterStemmer()\n",
    "\n",
    "stemmed_wordsB=[]\n",
    "for w in filtered_sentB:\n",
    "    stemmed_wordsB.append(ps.stem(w))\n",
    "\n",
    "print(\"Stemmed Sentence:\",stemmed_wordsB)"
   ]
  },
  {
   "cell_type": "code",
   "execution_count": 44,
   "id": "be0419f4",
   "metadata": {},
   "outputs": [
    {
     "name": "stdout",
     "output_type": "stream",
     "text": [
      "Stemmed Sentence: ['after', 'read', 'sever', 'critic', 'review', 'ship', 'damag', 'i', 'hesit', 'place', 'order', '.', 'i', 'order', '1st', 'unit', 'arriv', 'damag', '.', 'i', 'found', 'sturdi', 'well', 'made', 'great', 'state', 'ohio', ',', 'usa', '.', 'keep', 'good', 'work', 'buyer', 'product', '.']\n"
     ]
    }
   ],
   "source": [
    "psC = PorterStemmer()\n",
    "\n",
    "stemmed_wordsC=[]\n",
    "for w in filtered_sentC:\n",
    "    stemmed_wordsC.append(ps.stem(w))\n",
    "\n",
    "print(\"Stemmed Sentence:\",stemmed_wordsC)"
   ]
  },
  {
   "cell_type": "markdown",
   "id": "1486b661",
   "metadata": {},
   "source": [
    "**Al igual que el ejercicio anterior estos procesos profundización la desagregación de los textos para ayudar a su análisis**"
   ]
  },
  {
   "cell_type": "markdown",
   "id": "4241acf4",
   "metadata": {},
   "source": [
    "## Exercici 3\n",
    "Realitza sentiment analysis al teu conjunt de dades\n",
    "\n",
    "**Evalúo el sentiment de los textos con el sub paquete vader. Esta da como resultado una libreria con los porcentajes del texto de aspectos positivos, negativos y neutrales, y un resultado final (compaund) que va de -1 que es muy negativo a 1 que es muy positivo, siendo 0 el neutral.\n",
    "[Fuente](https://www.youtube.com/watch?v=kRVJFhFDuYA)**"
   ]
  },
  {
   "cell_type": "code",
   "execution_count": 10,
   "id": "9b19e351",
   "metadata": {},
   "outputs": [],
   "source": [
    "from nltk.sentiment.vader import SentimentIntensityAnalyzer"
   ]
  },
  {
   "cell_type": "code",
   "execution_count": 46,
   "id": "56872089",
   "metadata": {},
   "outputs": [
    {
     "data": {
      "text/plain": [
       "{'neg': 0.151, 'neu': 0.808, 'pos': 0.041, 'compound': -0.8985}"
      ]
     },
     "execution_count": 46,
     "metadata": {},
     "output_type": "execute_result"
    }
   ],
   "source": [
    "sid = SentimentIntensityAnalyzer()\n",
    "resultadosA = sid.polarity_scores(textA)\n",
    "resultadosA"
   ]
  },
  {
   "cell_type": "code",
   "execution_count": 47,
   "id": "ec897e44",
   "metadata": {},
   "outputs": [
    {
     "data": {
      "text/plain": [
       "{'neg': 0.06, 'neu': 0.802, 'pos': 0.139, 'compound': 0.7128}"
      ]
     },
     "execution_count": 47,
     "metadata": {},
     "output_type": "execute_result"
    }
   ],
   "source": [
    "resultadosB = sid.polarity_scores(textB)\n",
    "resultadosB"
   ]
  },
  {
   "cell_type": "code",
   "execution_count": 48,
   "id": "e19fe544",
   "metadata": {},
   "outputs": [
    {
     "data": {
      "text/plain": [
       "{'neg': 0.222, 'neu': 0.621, 'pos': 0.157, 'compound': -0.4215}"
      ]
     },
     "execution_count": 48,
     "metadata": {},
     "output_type": "execute_result"
    }
   ],
   "source": [
    "resultadosC = sid.polarity_scores(textC)\n",
    "resultadosC"
   ]
  },
  {
   "cell_type": "code",
   "execution_count": 50,
   "id": "5b68df05",
   "metadata": {},
   "outputs": [
    {
     "data": {
      "text/html": [
       "<div>\n",
       "<style scoped>\n",
       "    .dataframe tbody tr th:only-of-type {\n",
       "        vertical-align: middle;\n",
       "    }\n",
       "\n",
       "    .dataframe tbody tr th {\n",
       "        vertical-align: top;\n",
       "    }\n",
       "\n",
       "    .dataframe thead th {\n",
       "        text-align: right;\n",
       "    }\n",
       "</style>\n",
       "<table border=\"1\" class=\"dataframe\">\n",
       "  <thead>\n",
       "    <tr style=\"text-align: right;\">\n",
       "      <th></th>\n",
       "      <th>Texto</th>\n",
       "      <th>Negavite</th>\n",
       "      <th>Neutral</th>\n",
       "      <th>Positive</th>\n",
       "      <th>Compound</th>\n",
       "    </tr>\n",
       "  </thead>\n",
       "  <tbody>\n",
       "    <tr>\n",
       "      <th>0</th>\n",
       "      <td>A</td>\n",
       "      <td>0.151</td>\n",
       "      <td>0.808</td>\n",
       "      <td>0.041</td>\n",
       "      <td>-0.8985</td>\n",
       "    </tr>\n",
       "    <tr>\n",
       "      <th>1</th>\n",
       "      <td>B</td>\n",
       "      <td>0.060</td>\n",
       "      <td>0.802</td>\n",
       "      <td>0.139</td>\n",
       "      <td>0.7128</td>\n",
       "    </tr>\n",
       "    <tr>\n",
       "      <th>2</th>\n",
       "      <td>C</td>\n",
       "      <td>0.222</td>\n",
       "      <td>0.621</td>\n",
       "      <td>0.157</td>\n",
       "      <td>-0.4215</td>\n",
       "    </tr>\n",
       "  </tbody>\n",
       "</table>\n",
       "</div>"
      ],
      "text/plain": [
       "  Texto  Negavite  Neutral  Positive  Compound\n",
       "0     A     0.151    0.808     0.041   -0.8985\n",
       "1     B     0.060    0.802     0.139    0.7128\n",
       "2     C     0.222    0.621     0.157   -0.4215"
      ]
     },
     "execution_count": 50,
     "metadata": {},
     "output_type": "execute_result"
    }
   ],
   "source": [
    "import pandas as pd\n",
    "\n",
    "metrics = pd.DataFrame(data=[['A',0.151, 0.808,0.041, -0.8985 ],\n",
    "                             ['B', 0.06, 0.802,0.139, 0.7128 ],\n",
    "                             ['C', 0.222, 0.621, 0.157, -0.4215]],\n",
    "                        columns = ['Texto','Negavite', 'Neutral','Positive', 'Compound'])\n",
    "\n",
    "\n",
    "metrics.head()"
   ]
  },
  {
   "cell_type": "markdown",
   "id": "c871651f",
   "metadata": {},
   "source": [
    "**Podemos observar que el análisis falla en los textos A y C que podrían ser considerados: neutral el A (o hasta quizás positivo) y positivo el C, pero por la forma de expresarse de los mismo los confunde. El compaund del B es más acertado.**\n",
    "\n",
    "**A continuación graficamos los sentiments y lo que se puede ver es el alto porcentaje de neutralidad, lo que describe mucho mejor los textos. Sin embargo, sería bueno probar con textos claramente positivos o negativos para ver si no sobre dimensiona la nautralidad a partir del \"ruido\" en los mensajes.**"
   ]
  },
  {
   "cell_type": "code",
   "execution_count": 55,
   "id": "d09574b4",
   "metadata": {},
   "outputs": [
    {
     "data": {
      "text/plain": [
       "<AxesSubplot:>"
      ]
     },
     "execution_count": 55,
     "metadata": {},
     "output_type": "execute_result"
    },
    {
     "data": {
      "image/png": "[encoded data removed]",
      "text/plain": [
       "<Figure size 720x720 with 1 Axes>"
      ]
     },
     "metadata": {
      "needs_background": "light"
     },
     "output_type": "display_data"
    }
   ],
   "source": [
    "sentiments = metrics[['Negavite', 'Neutral','Positive']]\n",
    "sentiments.plot(kind = 'bar',color=['red', 'gray', 'green'],figsize=(10,10))"
   ]
  },
  {
   "cell_type": "markdown",
   "id": "a1bbc91c",
   "metadata": {},
   "source": [
    "**Conclusiones:**\n",
    "\n",
    "**Las herramientas para tokenizar, medir frecuencia y eliminar stop words funcionan muy bien.\n",
    "El sentiment funciona correctamente, pero sin duda debe ser ajustado. Aunque, es cierto que hemos probado con textos complejos justamente buscando ver su efectividad. También es recomendable, por lo que dice la documentación, entrenar un modelo en función de nuestras necesidades, que no siempre se cubren con los paquetes ya existentes.**"
   ]
  }
 ],
 "metadata": {
  "kernelspec": {
   "display_name": "Python 3 (ipykernel)",
   "language": "python",
   "name": "python3"
  },
  "language_info": {
   "codemirror_mode": {
    "name": "ipython",
    "version": 3
   },
   "file_extension": ".py",
   "mimetype": "text/x-python",
   "name": "python",
   "nbconvert_exporter": "python",
   "pygments_lexer": "ipython3",
   "version": "3.9.12"
  }
 },
 "nbformat": 4,
 "nbformat_minor": 5
}
